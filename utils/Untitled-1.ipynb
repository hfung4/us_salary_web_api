{
 "cells": [
  {
   "cell_type": "code",
   "execution_count": 14,
   "metadata": {},
   "outputs": [],
   "source": [
    "from pathlib import Path\n",
    "import pandas as pd\n",
    "import numpy as np"
   ]
  },
  {
   "cell_type": "code",
   "execution_count": 15,
   "metadata": {},
   "outputs": [],
   "source": [
    "df_income_dist = pd.read_csv(Path(\"artifacts\",\"income_dist.csv\"))"
   ]
  },
  {
   "cell_type": "code",
   "execution_count": 16,
   "metadata": {},
   "outputs": [
    {
     "data": {
      "text/html": [
       "<div>\n",
       "<style scoped>\n",
       "    .dataframe tbody tr th:only-of-type {\n",
       "        vertical-align: middle;\n",
       "    }\n",
       "\n",
       "    .dataframe tbody tr th {\n",
       "        vertical-align: top;\n",
       "    }\n",
       "\n",
       "    .dataframe thead th {\n",
       "        text-align: right;\n",
       "    }\n",
       "</style>\n",
       "<table border=\"1\" class=\"dataframe\">\n",
       "  <thead>\n",
       "    <tr style=\"text-align: right;\">\n",
       "      <th></th>\n",
       "      <th>percentile</th>\n",
       "      <th>personal_income</th>\n",
       "    </tr>\n",
       "  </thead>\n",
       "  <tbody>\n",
       "    <tr>\n",
       "      <th>0</th>\n",
       "      <td>1</td>\n",
       "      <td>0</td>\n",
       "    </tr>\n",
       "    <tr>\n",
       "      <th>1</th>\n",
       "      <td>2</td>\n",
       "      <td>0</td>\n",
       "    </tr>\n",
       "    <tr>\n",
       "      <th>2</th>\n",
       "      <td>3</td>\n",
       "      <td>52</td>\n",
       "    </tr>\n",
       "    <tr>\n",
       "      <th>3</th>\n",
       "      <td>4</td>\n",
       "      <td>1040</td>\n",
       "    </tr>\n",
       "    <tr>\n",
       "      <th>4</th>\n",
       "      <td>5</td>\n",
       "      <td>2200</td>\n",
       "    </tr>\n",
       "  </tbody>\n",
       "</table>\n",
       "</div>"
      ],
      "text/plain": [
       "   percentile  personal_income\n",
       "0           1                0\n",
       "1           2                0\n",
       "2           3               52\n",
       "3           4             1040\n",
       "4           5             2200"
      ]
     },
     "execution_count": 16,
     "metadata": {},
     "output_type": "execute_result"
    }
   ],
   "source": [
    "df_income_dist.head()"
   ]
  },
  {
   "cell_type": "code",
   "execution_count": 17,
   "metadata": {},
   "outputs": [],
   "source": [
    "income = 1500"
   ]
  },
  {
   "cell_type": "code",
   "execution_count": 18,
   "metadata": {},
   "outputs": [],
   "source": [
    "income_bins = df_income_dist[\"personal_income\"].tolist()"
   ]
  },
  {
   "cell_type": "code",
   "execution_count": 19,
   "metadata": {},
   "outputs": [
    {
     "data": {
      "text/plain": [
       "[0,\n",
       " 0,\n",
       " 52,\n",
       " 1040,\n",
       " 2200,\n",
       " 3510,\n",
       " 4990,\n",
       " 6000,\n",
       " 7171,\n",
       " 8500,\n",
       " 10000,\n",
       " 10703,\n",
       " 12000,\n",
       " 13000,\n",
       " 14311,\n",
       " 15001,\n",
       " 16000,\n",
       " 17020,\n",
       " 18010,\n",
       " 19404,\n",
       " 20000,\n",
       " 20104,\n",
       " 21306,\n",
       " 22400,\n",
       " 23357,\n",
       " 24003,\n",
       " 25000,\n",
       " 25050,\n",
       " 26002,\n",
       " 27003,\n",
       " 28000,\n",
       " 29000,\n",
       " 30000,\n",
       " 30000,\n",
       " 30199,\n",
       " 31385,\n",
       " 32111,\n",
       " 33300,\n",
       " 34830,\n",
       " 35000,\n",
       " 35700,\n",
       " 36400,\n",
       " 37671,\n",
       " 38879,\n",
       " 40000,\n",
       " 40001,\n",
       " 40600,\n",
       " 42000,\n",
       " 43000,\n",
       " 44225,\n",
       " 45001,\n",
       " 46000,\n",
       " 47200,\n",
       " 48473,\n",
       " 50000,\n",
       " 50002,\n",
       " 50402,\n",
       " 51850,\n",
       " 52700,\n",
       " 54100,\n",
       " 55028,\n",
       " 56206,\n",
       " 58002,\n",
       " 60000,\n",
       " 60010,\n",
       " 61000,\n",
       " 62601,\n",
       " 64886,\n",
       " 65400,\n",
       " 67402,\n",
       " 69887,\n",
       " 70213,\n",
       " 72281,\n",
       " 75000,\n",
       " 75815,\n",
       " 78152,\n",
       " 80011,\n",
       " 82008,\n",
       " 85001,\n",
       " 87600,\n",
       " 90055,\n",
       " 93200,\n",
       " 97027,\n",
       " 100012,\n",
       " 102200,\n",
       " 107000,\n",
       " 111300,\n",
       " 118000,\n",
       " 122485,\n",
       " 129181,\n",
       " 136000,\n",
       " 145025,\n",
       " 151660,\n",
       " 160512,\n",
       " 175300,\n",
       " 196006,\n",
       " 220005,\n",
       " 259608,\n",
       " 357552]"
      ]
     },
     "execution_count": 19,
     "metadata": {},
     "output_type": "execute_result"
    }
   ],
   "source": [
    "income_bins"
   ]
  },
  {
   "cell_type": "code",
   "execution_count": 26,
   "metadata": {},
   "outputs": [
    {
     "data": {
      "text/plain": [
       "array([5])"
      ]
     },
     "execution_count": 26,
     "metadata": {},
     "output_type": "execute_result"
    }
   ],
   "source": [
    "income = 3000\n",
    "percentile = np.digitize([income],income_bins) +1"
   ]
  },
  {
   "cell_type": "code",
   "execution_count": 27,
   "metadata": {},
   "outputs": [],
   "source": [
    "income_bins = income_bins = df_income_dist[\"personal_income\"].tolist()"
   ]
  },
  {
   "cell_type": "code",
   "execution_count": 36,
   "metadata": {},
   "outputs": [],
   "source": [
    "def get_percentile(income):\n",
    "    percentile =  np.digitize([income],income_bins) +1\n",
    "    return percentile.item()"
   ]
  },
  {
   "cell_type": "code",
   "execution_count": 37,
   "metadata": {},
   "outputs": [
    {
     "data": {
      "text/plain": [
       "97"
      ]
     },
     "execution_count": 37,
     "metadata": {},
     "output_type": "execute_result"
    }
   ],
   "source": [
    "get_percentile(200000)"
   ]
  },
  {
   "cell_type": "code",
   "execution_count": null,
   "metadata": {},
   "outputs": [],
   "source": []
  }
 ],
 "metadata": {
  "kernelspec": {
   "display_name": "Python 3.9.0 64-bit ('salary_survey_web_app')",
   "language": "python",
   "name": "python3"
  },
  "language_info": {
   "codemirror_mode": {
    "name": "ipython",
    "version": 3
   },
   "file_extension": ".py",
   "mimetype": "text/x-python",
   "name": "python",
   "nbconvert_exporter": "python",
   "pygments_lexer": "ipython3",
   "version": "3.9.0"
  },
  "orig_nbformat": 4,
  "vscode": {
   "interpreter": {
    "hash": "e5c023555cbb3aea5f9af5320652538924cf3a1edb195c34521d47d49fb28da2"
   }
  }
 },
 "nbformat": 4,
 "nbformat_minor": 2
}
